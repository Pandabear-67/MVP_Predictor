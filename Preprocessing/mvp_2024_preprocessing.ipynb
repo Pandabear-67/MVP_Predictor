{
 "cells": [
  {
   "cell_type": "code",
   "execution_count": 1,
   "metadata": {},
   "outputs": [],
   "source": [
    "import pandas as pd\n",
    "import requests\n",
    "import time\n",
    "from bs4 import BeautifulSoup\n",
    "from selenium import webdriver\n",
    "from selenium.webdriver.chrome.service import Service"
   ]
  },
  {
   "cell_type": "markdown",
   "metadata": {},
   "source": [
    "**Data for per game stats for players from the 2024 season.**"
   ]
  },
  {
   "cell_type": "code",
   "execution_count": 2,
   "metadata": {},
   "outputs": [],
   "source": [
    "player_stats_url = \"https://www.basketball-reference.com/leagues/NBA_2024_per_game.html\"\n",
    "data = requests.get(player_stats_url)\n",
    "time.sleep(15)\n",
    "with open(\"../player_stats/2024.html\", \"w+\", encoding=\"utf-8\") as f:\n",
    "    f.write(data.text)"
   ]
  },
  {
   "cell_type": "code",
   "execution_count": 3,
   "metadata": {},
   "outputs": [],
   "source": [
    "driver = webdriver.Chrome(\n",
    "    # service=Service(executable_path=\"C:/Users/vuyyu/Dropbox/PC/Desktop/Program_Installers/chromedriver-win64/chromedriver-win64/chromedriver.exe\")\n",
    "    )"
   ]
  },
  {
   "cell_type": "code",
   "execution_count": 4,
   "metadata": {},
   "outputs": [],
   "source": [
    "url = player_stats_url\n",
    "\n",
    "driver.get(url)\n",
    "driver.execute_script(\"window.scrollTo(1,10000)\")\n",
    "time.sleep(2)\n",
    "\n",
    "with open(\"../player_stats/2024.html\", \"w+\", encoding='utf-8') as f:\n",
    "    f.write(driver.page_source)"
   ]
  },
  {
   "cell_type": "code",
   "execution_count": 5,
   "metadata": {},
   "outputs": [],
   "source": [
    "dfs = []\n",
    "with open(\"../player_stats/2024.html\", encoding='utf-8') as f:\n",
    "    page = f.read()\n",
    "\n",
    "soup = BeautifulSoup(page, 'html.parser')\n",
    "soup.find('tr', class_=\"thead\").decompose()\n",
    "player_table = soup.find_all(id=\"per_game_stats\")[0]\n",
    "player_df = pd.read_html(str(player_table))[0]\n",
    "player_df[\"Year\"] = 2024\n",
    "dfs.append(player_df)"
   ]
  },
  {
   "cell_type": "code",
   "execution_count": 6,
   "metadata": {},
   "outputs": [],
   "source": [
    "players_2024 = pd.concat(dfs)\n",
    "players_2024.to_csv(\"../player_stats/2024_players.csv\")"
   ]
  },
  {
   "cell_type": "markdown",
   "metadata": {},
   "source": [
    "**Data for advanced stats for players from the 2024 season.**"
   ]
  },
  {
   "cell_type": "code",
   "execution_count": 7,
   "metadata": {},
   "outputs": [],
   "source": [
    "advanced_stats_url = \"https://www.basketball-reference.com/leagues/NBA_2024_advanced.html\"\n",
    "\n",
    "data = requests.get(advanced_stats_url)\n",
    "time.sleep(15)\n",
    "\n",
    "with open(\"../advanced_stats/2024.html\", \"w+\", encoding='utf-8') as f:\n",
    "    f.write(data.text)"
   ]
  },
  {
   "cell_type": "code",
   "execution_count": 8,
   "metadata": {},
   "outputs": [],
   "source": [
    "url = advanced_stats_url\n",
    "\n",
    "driver.get(url)\n",
    "driver.execute_script(\"window.scrollTo(1,10000)\")\n",
    "time.sleep(2)\n",
    "\n",
    "with open(\"../advanced_stats/2024.html\", \"w+\", encoding='utf-8') as f:\n",
    "    f.write(driver.page_source)"
   ]
  },
  {
   "cell_type": "code",
   "execution_count": 9,
   "metadata": {},
   "outputs": [],
   "source": [
    "dfs = []\n",
    "with open(\"../advanced_stats/2024.html\", encoding='utf-8') as f:\n",
    "    page = f.read()\n",
    "\n",
    "soup = BeautifulSoup(page, 'html.parser')\n",
    "soup.find('tr', class_=\"thead\").decompose()\n",
    "player_table = soup.find_all(id=\"advanced_stats\")[0]\n",
    "player_df = pd.read_html(str(player_table))[0]\n",
    "player_df[\"Year\"] = 2024\n",
    "dfs.append(player_df)"
   ]
  },
  {
   "cell_type": "code",
   "execution_count": 10,
   "metadata": {},
   "outputs": [
    {
     "data": {
      "text/html": [
       "<div>\n",
       "<style scoped>\n",
       "    .dataframe tbody tr th:only-of-type {\n",
       "        vertical-align: middle;\n",
       "    }\n",
       "\n",
       "    .dataframe tbody tr th {\n",
       "        vertical-align: top;\n",
       "    }\n",
       "\n",
       "    .dataframe thead th {\n",
       "        text-align: right;\n",
       "    }\n",
       "</style>\n",
       "<table border=\"1\" class=\"dataframe\">\n",
       "  <thead>\n",
       "    <tr style=\"text-align: right;\">\n",
       "      <th></th>\n",
       "      <th>Rk</th>\n",
       "      <th>Player</th>\n",
       "      <th>Pos</th>\n",
       "      <th>Age</th>\n",
       "      <th>Tm</th>\n",
       "      <th>G</th>\n",
       "      <th>MP</th>\n",
       "      <th>PER</th>\n",
       "      <th>TS%</th>\n",
       "      <th>3PAr</th>\n",
       "      <th>...</th>\n",
       "      <th>OWS</th>\n",
       "      <th>DWS</th>\n",
       "      <th>WS</th>\n",
       "      <th>WS/48</th>\n",
       "      <th>Unnamed: 24</th>\n",
       "      <th>OBPM</th>\n",
       "      <th>DBPM</th>\n",
       "      <th>BPM</th>\n",
       "      <th>VORP</th>\n",
       "      <th>Year</th>\n",
       "    </tr>\n",
       "  </thead>\n",
       "  <tbody>\n",
       "    <tr>\n",
       "      <th>0</th>\n",
       "      <td>1</td>\n",
       "      <td>Precious Achiuwa</td>\n",
       "      <td>PF-C</td>\n",
       "      <td>24</td>\n",
       "      <td>TOT</td>\n",
       "      <td>71</td>\n",
       "      <td>1582</td>\n",
       "      <td>14.8</td>\n",
       "      <td>.546</td>\n",
       "      <td>.207</td>\n",
       "      <td>...</td>\n",
       "      <td>1.1</td>\n",
       "      <td>2.1</td>\n",
       "      <td>3.2</td>\n",
       "      <td>.098</td>\n",
       "      <td>NaN</td>\n",
       "      <td>-1.7</td>\n",
       "      <td>0.3</td>\n",
       "      <td>-1.4</td>\n",
       "      <td>0.3</td>\n",
       "      <td>2024</td>\n",
       "    </tr>\n",
       "    <tr>\n",
       "      <th>1</th>\n",
       "      <td>1</td>\n",
       "      <td>Precious Achiuwa</td>\n",
       "      <td>C</td>\n",
       "      <td>24</td>\n",
       "      <td>TOR</td>\n",
       "      <td>25</td>\n",
       "      <td>437</td>\n",
       "      <td>15.0</td>\n",
       "      <td>.512</td>\n",
       "      <td>.276</td>\n",
       "      <td>...</td>\n",
       "      <td>0.0</td>\n",
       "      <td>0.4</td>\n",
       "      <td>0.4</td>\n",
       "      <td>.042</td>\n",
       "      <td>NaN</td>\n",
       "      <td>-1.4</td>\n",
       "      <td>-0.2</td>\n",
       "      <td>-1.7</td>\n",
       "      <td>0.0</td>\n",
       "      <td>2024</td>\n",
       "    </tr>\n",
       "    <tr>\n",
       "      <th>2</th>\n",
       "      <td>1</td>\n",
       "      <td>Precious Achiuwa</td>\n",
       "      <td>PF</td>\n",
       "      <td>24</td>\n",
       "      <td>NYK</td>\n",
       "      <td>46</td>\n",
       "      <td>1145</td>\n",
       "      <td>14.7</td>\n",
       "      <td>.566</td>\n",
       "      <td>.167</td>\n",
       "      <td>...</td>\n",
       "      <td>1.2</td>\n",
       "      <td>1.7</td>\n",
       "      <td>2.8</td>\n",
       "      <td>.119</td>\n",
       "      <td>NaN</td>\n",
       "      <td>-1.8</td>\n",
       "      <td>0.5</td>\n",
       "      <td>-1.3</td>\n",
       "      <td>0.2</td>\n",
       "      <td>2024</td>\n",
       "    </tr>\n",
       "    <tr>\n",
       "      <th>3</th>\n",
       "      <td>2</td>\n",
       "      <td>Bam Adebayo</td>\n",
       "      <td>C</td>\n",
       "      <td>26</td>\n",
       "      <td>MIA</td>\n",
       "      <td>69</td>\n",
       "      <td>2372</td>\n",
       "      <td>19.7</td>\n",
       "      <td>.571</td>\n",
       "      <td>.039</td>\n",
       "      <td>...</td>\n",
       "      <td>2.3</td>\n",
       "      <td>4.2</td>\n",
       "      <td>6.5</td>\n",
       "      <td>.132</td>\n",
       "      <td>NaN</td>\n",
       "      <td>0.7</td>\n",
       "      <td>1.6</td>\n",
       "      <td>2.3</td>\n",
       "      <td>2.6</td>\n",
       "      <td>2024</td>\n",
       "    </tr>\n",
       "    <tr>\n",
       "      <th>4</th>\n",
       "      <td>3</td>\n",
       "      <td>Ochai Agbaji</td>\n",
       "      <td>SG</td>\n",
       "      <td>23</td>\n",
       "      <td>TOT</td>\n",
       "      <td>76</td>\n",
       "      <td>1583</td>\n",
       "      <td>7.7</td>\n",
       "      <td>.497</td>\n",
       "      <td>.494</td>\n",
       "      <td>...</td>\n",
       "      <td>-0.6</td>\n",
       "      <td>0.6</td>\n",
       "      <td>0.0</td>\n",
       "      <td>.000</td>\n",
       "      <td>NaN</td>\n",
       "      <td>-3.5</td>\n",
       "      <td>-0.9</td>\n",
       "      <td>-4.5</td>\n",
       "      <td>-1.0</td>\n",
       "      <td>2024</td>\n",
       "    </tr>\n",
       "  </tbody>\n",
       "</table>\n",
       "<p>5 rows × 30 columns</p>\n",
       "</div>"
      ],
      "text/plain": [
       "  Rk            Player   Pos Age   Tm   G    MP   PER   TS%  3PAr  ...   OWS  \\\n",
       "0  1  Precious Achiuwa  PF-C  24  TOT  71  1582  14.8  .546  .207  ...   1.1   \n",
       "1  1  Precious Achiuwa     C  24  TOR  25   437  15.0  .512  .276  ...   0.0   \n",
       "2  1  Precious Achiuwa    PF  24  NYK  46  1145  14.7  .566  .167  ...   1.2   \n",
       "3  2       Bam Adebayo     C  26  MIA  69  2372  19.7  .571  .039  ...   2.3   \n",
       "4  3      Ochai Agbaji    SG  23  TOT  76  1583   7.7  .497  .494  ...  -0.6   \n",
       "\n",
       "   DWS   WS WS/48 Unnamed: 24  OBPM  DBPM   BPM  VORP  Year  \n",
       "0  2.1  3.2  .098         NaN  -1.7   0.3  -1.4   0.3  2024  \n",
       "1  0.4  0.4  .042         NaN  -1.4  -0.2  -1.7   0.0  2024  \n",
       "2  1.7  2.8  .119         NaN  -1.8   0.5  -1.3   0.2  2024  \n",
       "3  4.2  6.5  .132         NaN   0.7   1.6   2.3   2.6  2024  \n",
       "4  0.6  0.0  .000         NaN  -3.5  -0.9  -4.5  -1.0  2024  \n",
       "\n",
       "[5 rows x 30 columns]"
      ]
     },
     "execution_count": 10,
     "metadata": {},
     "output_type": "execute_result"
    }
   ],
   "source": [
    "players_advanced = pd.concat(dfs)\n",
    "players_advanced.head()"
   ]
  },
  {
   "cell_type": "code",
   "execution_count": 11,
   "metadata": {},
   "outputs": [],
   "source": [
    "del players_advanced[\"Unnamed: 19\"]\n",
    "del players_advanced[\"Unnamed: 24\"]"
   ]
  },
  {
   "cell_type": "code",
   "execution_count": 12,
   "metadata": {},
   "outputs": [],
   "source": [
    "players_advanced.to_csv(\"../advanced_stats/2024_advanced_stats.csv\")"
   ]
  },
  {
   "cell_type": "markdown",
   "metadata": {},
   "source": [
    "**Cleaning and combining advanced stats and regular stats.**"
   ]
  },
  {
   "cell_type": "code",
   "execution_count": 13,
   "metadata": {},
   "outputs": [],
   "source": [
    "players = pd.read_csv(\"../player_stats/2024_players.csv\")\n",
    "del players[\"Rk\"]\n",
    "del players[\"Unnamed: 0\"]"
   ]
  },
  {
   "cell_type": "code",
   "execution_count": 14,
   "metadata": {},
   "outputs": [],
   "source": [
    "advanced_stats = pd.read_csv(\"../advanced_stats/2024_advanced_stats.csv\")\n",
    "del advanced_stats[\"Unnamed: 0\"]"
   ]
  },
  {
   "cell_type": "code",
   "execution_count": 15,
   "metadata": {},
   "outputs": [],
   "source": [
    "players[\"Player\"] = players[\"Player\"].str.replace(\"*\",\"\",regex=False)\n",
    "advanced_stats[\"Player\"] = advanced_stats[\"Player\"].str.replace(\"*\",\"\",regex=False)"
   ]
  },
  {
   "cell_type": "code",
   "execution_count": 16,
   "metadata": {},
   "outputs": [],
   "source": [
    "def single_row(df):\n",
    "    if df.shape[0] == 1:\n",
    "        return df\n",
    "    else:\n",
    "        row = df[df[\"Tm\"] == \"TOT\"]\n",
    "        row[\"Tm\"] = df.iloc[-1,:][\"Tm\"]\n",
    "        return row\n",
    "advanced_stats = advanced_stats.groupby([\"Player\", \"Year\"]).apply(single_row)\n",
    "players = players.groupby([\"Player\", \"Year\"]).apply(single_row)"
   ]
  },
  {
   "cell_type": "code",
   "execution_count": 17,
   "metadata": {},
   "outputs": [],
   "source": [
    "advanced_stats.index = advanced_stats.index.droplevel()\n",
    "advanced_stats.index = advanced_stats.index.droplevel()"
   ]
  },
  {
   "cell_type": "code",
   "execution_count": 18,
   "metadata": {},
   "outputs": [],
   "source": [
    "players.index = players.index.droplevel()\n",
    "players.index = players.index.droplevel()"
   ]
  },
  {
   "cell_type": "code",
   "execution_count": 19,
   "metadata": {},
   "outputs": [],
   "source": [
    "advanced_stats = advanced_stats[['Player','Year','PER', 'TS%',\n",
    "       '3PAr', 'FTr', 'ORB%', 'DRB%', 'TRB%', 'AST%', 'STL%', 'BLK%', 'TOV%',\n",
    "       'USG%', 'OWS', 'DWS', 'WS', 'WS/48', 'OBPM', 'DBPM', 'BPM', 'VORP']]"
   ]
  },
  {
   "cell_type": "code",
   "execution_count": 20,
   "metadata": {},
   "outputs": [],
   "source": [
    "stats = players.merge(advanced_stats, how=\"outer\", on=[\"Player\", \"Year\"])"
   ]
  },
  {
   "cell_type": "markdown",
   "metadata": {},
   "source": [
    "**Team standings**"
   ]
  },
  {
   "cell_type": "code",
   "execution_count": 21,
   "metadata": {},
   "outputs": [],
   "source": [
    "team_stats_url = \"https://www.basketball-reference.com/leagues/NBA_2024_standings.html\""
   ]
  },
  {
   "cell_type": "code",
   "execution_count": 22,
   "metadata": {},
   "outputs": [],
   "source": [
    "url = team_stats_url\n",
    "\n",
    "data = requests.get(url)\n",
    "time.sleep(15)\n",
    "\n",
    "with open(\"../team_standings/2024.html\", \"w+\", encoding = 'utf-8') as f:\n",
    "    f.write(data.text)"
   ]
  },
  {
   "cell_type": "code",
   "execution_count": 23,
   "metadata": {},
   "outputs": [],
   "source": [
    "dfs = []\n",
    "with open(\"../team_standings/2024.html\", encoding = 'utf-8') as f:\n",
    "    page = f.read()\n",
    "\n",
    "soup = BeautifulSoup(page, 'html.parser')\n",
    "soup.find('tr', class_=\"thead\").decompose()\n",
    "e_table = soup.find_all(id=\"divs_standings_E\")[0]\n",
    "e_df = pd.read_html(str(e_table))[0]\n",
    "e_df[\"Year\"] = 2024\n",
    "e_df[\"Team\"] = e_df[\"Eastern Conference\"]\n",
    "del e_df[\"Eastern Conference\"]\n",
    "dfs.append(e_df)\n",
    "\n",
    "w_table = soup.find_all(id=\"divs_standings_W\")[0]\n",
    "w_df = pd.read_html(str(w_table))[0]\n",
    "w_df[\"Year\"] = 2024\n",
    "w_df[\"Team\"] = w_df[\"Western Conference\"]\n",
    "del w_df[\"Western Conference\"]\n",
    "dfs.append(w_df)"
   ]
  },
  {
   "cell_type": "code",
   "execution_count": 24,
   "metadata": {},
   "outputs": [],
   "source": [
    "team_standings = pd.concat(dfs)"
   ]
  },
  {
   "cell_type": "code",
   "execution_count": 25,
   "metadata": {},
   "outputs": [
    {
     "name": "stderr",
     "output_type": "stream",
     "text": [
      "<ipython-input-25-3b72248a3180>:1: FutureWarning: The default value of regex will change from True to False in a future version.\n",
      "  team_standings[\"Team\"] = team_standings[\"Team\"].str.replace(r\"\\(\\d+\\)\", \"\").str.strip()\n"
     ]
    }
   ],
   "source": [
    "team_standings[\"Team\"] = team_standings[\"Team\"].str.replace(r\"\\(\\d+\\)\", \"\").str.strip()"
   ]
  },
  {
   "cell_type": "code",
   "execution_count": 26,
   "metadata": {},
   "outputs": [],
   "source": [
    "team_standings.to_csv(\"../team_standings/2024_team_standings.csv\")"
   ]
  },
  {
   "cell_type": "markdown",
   "metadata": {},
   "source": [
    "**Adding team standings to player dataset**"
   ]
  },
  {
   "cell_type": "code",
   "execution_count": 27,
   "metadata": {},
   "outputs": [],
   "source": [
    "teams = pd.read_csv(\"../team_standings/2024_team_standings.csv\")\n",
    "teams = teams[~teams[\"W\"].str.contains(\"Division\")]"
   ]
  },
  {
   "cell_type": "code",
   "execution_count": 28,
   "metadata": {},
   "outputs": [],
   "source": [
    "nicknames = {}\n",
    "\n",
    "with open(\"../team_standings/nicknames.txt\") as f:\n",
    "    lines = f.readlines()\n",
    "    for line in lines[1:]:\n",
    "        abbrev, name = line.replace(\"\\n\", \"\").split(\",\")\n",
    "        nicknames[abbrev] = name"
   ]
  },
  {
   "cell_type": "code",
   "execution_count": 29,
   "metadata": {},
   "outputs": [],
   "source": [
    "stats[\"Team\"] = stats[\"Tm\"].map(nicknames)"
   ]
  },
  {
   "cell_type": "code",
   "execution_count": 30,
   "metadata": {},
   "outputs": [],
   "source": [
    "stats = stats.merge(teams, how = \"outer\", on = [\"Team\", \"Year\"])"
   ]
  },
  {
   "cell_type": "code",
   "execution_count": 31,
   "metadata": {},
   "outputs": [],
   "source": [
    "del stats[\"Unnamed: 0\"]"
   ]
  },
  {
   "cell_type": "code",
   "execution_count": 32,
   "metadata": {},
   "outputs": [],
   "source": [
    "stats = stats.apply(pd.to_numeric, errors=\"ignore\")"
   ]
  },
  {
   "cell_type": "code",
   "execution_count": 33,
   "metadata": {},
   "outputs": [],
   "source": [
    "stats[\"GB\"] = stats[\"GB\"].str.replace(\"—\",\"0\")"
   ]
  },
  {
   "cell_type": "code",
   "execution_count": 34,
   "metadata": {},
   "outputs": [],
   "source": [
    "stats[\"GB\"] = pd.to_numeric(stats[\"GB\"])"
   ]
  },
  {
   "cell_type": "code",
   "execution_count": 35,
   "metadata": {},
   "outputs": [],
   "source": [
    "stats.to_csv(\"../2024_stats.csv\")"
   ]
  }
 ],
 "metadata": {
  "kernelspec": {
   "display_name": "base",
   "language": "python",
   "name": "python3"
  },
  "language_info": {
   "codemirror_mode": {
    "name": "ipython",
    "version": 3
   },
   "file_extension": ".py",
   "mimetype": "text/x-python",
   "name": "python",
   "nbconvert_exporter": "python",
   "pygments_lexer": "ipython3",
   "version": "3.8.8"
  }
 },
 "nbformat": 4,
 "nbformat_minor": 2
}
